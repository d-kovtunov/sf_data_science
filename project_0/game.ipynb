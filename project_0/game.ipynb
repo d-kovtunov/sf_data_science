{
 "cells": [
  {
   "cell_type": "markdown",
   "metadata": {},
   "source": [
    "# Угадай число\n",
    "Нужно написать программу, которая угадывает число за минимальное число попыток."
   ]
  },
  {
   "cell_type": "markdown",
   "metadata": {},
   "source": [
    "## Условия соревнования\n",
    "- Компьютер загадывает целое число от 1 до 100, и нам его нужно угадать. Под «угадать», подразумевается «написать программу, которая угадывает число».    \n",
    "- Алгоритм учитывает информацию о том, больше ли случайное число или меньше нужного нам.\n",
    "- Необходимо добиться того, чтобы программа угадывала число меньше, чем за 20 попыток. "
   ]
  },
  {
   "cell_type": "markdown",
   "metadata": {},
   "source": [
    "## Импортируем библиотеку для генерации случайных чисел"
   ]
  },
  {
   "cell_type": "code",
   "execution_count": 1,
   "metadata": {},
   "outputs": [],
   "source": [
    "import numpy as np"
   ]
  },
  {
   "cell_type": "markdown",
   "metadata": {},
   "source": [
    "## Функция для оценки точности алгоритмов угадывания"
   ]
  },
  {
   "cell_type": "code",
   "execution_count": 7,
   "metadata": {},
   "outputs": [],
   "source": [
    "from typing import Callable\n",
    "\n",
    "def calculate_accuracy(guess_number_function:Callable[[int], int]) -> int:\n",
    "  \"\"\"\n",
    "  Checks how many attempts in average the given function takes to guess a random\n",
    "  integer on 1000 repeats\n",
    "\n",
    "  Args:\n",
    "      guess_number_function (Callable[[int], int]): a function that guesses a random integer\n",
    "\n",
    "  Returns:\n",
    "      int: average amount of attempts to guess a random integer\n",
    "  \"\"\"\n",
    "\n",
    "  np.random.seed(1) # to have an ability to get same random numbers for each call\n",
    "  \n",
    "  test_integers = np.random.randint(1, 101, size=(1000)) # test numbers\n",
    "  attempts = []\n",
    "\n",
    "  for integer in test_integers:\n",
    "    attempts.append(guess_number_function(integer))\n",
    "\n",
    "  score = int(np.mean(attempts)) # average amount of attempts\n",
    "\n",
    "  print(f'Ваш алгоритм угадывает число в среднем за: {score} попыток')\n",
    "  \n",
    "  return score"
   ]
  },
  {
   "cell_type": "markdown",
   "metadata": {},
   "source": [
    "## Подход 1: Случайное угадывание"
   ]
  },
  {
   "cell_type": "markdown",
   "metadata": {},
   "source": [
    "Простейший способ решения: программа угадывает число случайным образом"
   ]
  },
  {
   "cell_type": "code",
   "execution_count": 2,
   "metadata": {},
   "outputs": [],
   "source": [
    "def random_guess(integer:int=1) -> int:\n",
    "  \"\"\"\n",
    "  Randomly guesses the given integer.\n",
    "\n",
    "  Args:\n",
    "      integer (int, optional): an integer to guess. Defaults to 1.\n",
    "\n",
    "  Returns:\n",
    "      int: amount of attempts to guess the given integer\n",
    "  \"\"\"\n",
    "  \n",
    "  attempts = 0\n",
    "  \n",
    "  while True:\n",
    "      attempts += 1\n",
    "      guessed_integer = np.random.randint(1, 101)\n",
    "      \n",
    "      if integer == guessed_integer:\n",
    "          break # the integer has guessed, exit the loop\n",
    "\n",
    "  return attempts"
   ]
  },
  {
   "cell_type": "markdown",
   "metadata": {},
   "source": [
    "### Пример работы функции"
   ]
  },
  {
   "cell_type": "code",
   "execution_count": 6,
   "metadata": {},
   "outputs": [
    {
     "name": "stdout",
     "output_type": "stream",
     "text": [
      "43\n"
     ]
    }
   ],
   "source": [
    "print(random_guess(np.random.randint(1, 101)))"
   ]
  },
  {
   "cell_type": "markdown",
   "metadata": {},
   "source": [
    "### Оценка точности угадывания"
   ]
  },
  {
   "cell_type": "code",
   "execution_count": 9,
   "metadata": {},
   "outputs": [
    {
     "name": "stdout",
     "output_type": "stream",
     "text": [
      "Ваш алгоритм угадывает число в среднем за: 101 попыток\n"
     ]
    },
    {
     "data": {
      "text/plain": [
       "101"
      ]
     },
     "execution_count": 9,
     "metadata": {},
     "output_type": "execute_result"
    }
   ],
   "source": [
    "calculate_accuracy(random_guess)"
   ]
  },
  {
   "cell_type": "markdown",
   "metadata": {},
   "source": [
    "## Подход 2: Угадывание с коррекцией границ диапазона случайных чисел"
   ]
  },
  {
   "cell_type": "markdown",
   "metadata": {},
   "source": [
    "В этом подходе информация о том, больше ли ошибочно угаданное число или меньше загаданного, используется для корректировки границ диапазона случайных чисел. "
   ]
  },
  {
   "cell_type": "code",
   "execution_count": 10,
   "metadata": {},
   "outputs": [],
   "source": [
    "def randmized_binary_search_guess(integer: int) -> int:\n",
    "  \"\"\"\n",
    "  Guesses the given integer using randomized binary search. The idea is that\n",
    "  on each iteration the integer is guessed randomly, but but in case of a miss,\n",
    "  the number is guessed again, but the range of random numbers is reduced\n",
    "  according to the guessed number at the previous step\n",
    "\n",
    "  Args:\n",
    "      integer (int): an integer to guess\n",
    "\n",
    "  Returns:\n",
    "      int: amount of attempts to guess the given integer\n",
    "  \"\"\"\n",
    "\n",
    "  low = 1\n",
    "  high = 101\n",
    "  attempts = 0\n",
    "  \n",
    "  while True:\n",
    "    attempts += 1\n",
    "    guessed_integer = np.random.randint(low, high)\n",
    "\n",
    "    if integer == guessed_integer:\n",
    "      break # the integer has guessed, exit the loop\n",
    "      \n",
    "    if integer > guessed_integer:\n",
    "      # the integer is larger than the guessed integer, so we can consider it\n",
    "      # as a low border of random number range\n",
    "      low = guessed_integer\n",
    "      \n",
    "    if integer < guessed_integer:\n",
    "      # the integer is less than the guessed integer, so we can consider it\n",
    "      # as a high border of random numbers range\n",
    "      high = guessed_integer\n",
    "\n",
    "  return attempts"
   ]
  },
  {
   "cell_type": "markdown",
   "metadata": {},
   "source": [
    "### Пример работы функции"
   ]
  },
  {
   "cell_type": "code",
   "execution_count": 18,
   "metadata": {},
   "outputs": [
    {
     "name": "stdout",
     "output_type": "stream",
     "text": [
      "5\n"
     ]
    }
   ],
   "source": [
    "print(randmized_binary_search_guess(np.random.randint(1, 101)))"
   ]
  },
  {
   "cell_type": "markdown",
   "metadata": {},
   "source": [
    "### Оценка точности угадывания"
   ]
  },
  {
   "cell_type": "code",
   "execution_count": 21,
   "metadata": {},
   "outputs": [
    {
     "name": "stdout",
     "output_type": "stream",
     "text": [
      "Ваш алгоритм угадывает число в среднем за: 8 попыток\n"
     ]
    },
    {
     "data": {
      "text/plain": [
       "8"
      ]
     },
     "execution_count": 21,
     "metadata": {},
     "output_type": "execute_result"
    }
   ],
   "source": [
    "calculate_accuracy(randmized_binary_search_guess)"
   ]
  },
  {
   "cell_type": "markdown",
   "metadata": {},
   "source": [
    "Как видно, алгоритм решает угадывает целое число за 8 попыток в среднем, что дает основания считать, что искомый алгоритм найден."
   ]
  }
 ],
 "metadata": {
  "kernelspec": {
   "display_name": "Python 3",
   "language": "python",
   "name": "python3"
  },
  "language_info": {
   "codemirror_mode": {
    "name": "ipython",
    "version": 3
   },
   "file_extension": ".py",
   "mimetype": "text/x-python",
   "name": "python",
   "nbconvert_exporter": "python",
   "pygments_lexer": "ipython3",
   "version": "3.10.14"
  }
 },
 "nbformat": 4,
 "nbformat_minor": 2
}
